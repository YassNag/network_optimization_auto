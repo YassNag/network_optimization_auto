{
 "cells": [
  {
   "cell_type": "code",
   "execution_count": 2,
   "id": "698ec7ba",
   "metadata": {},
   "outputs": [],
   "source": [
    "using DataFrames"
   ]
  },
  {
   "cell_type": "code",
   "execution_count": 3,
   "id": "e4373de9",
   "metadata": {},
   "outputs": [
    {
     "data": {
      "text/html": [
       "<div class=\"data-frame\"><p>4 rows × 2 columns</p><table class=\"data-frame\"><thead><tr><th></th><th>A</th><th>B</th></tr><tr><th></th><th title=\"Int64\">Int64</th><th title=\"String\">String</th></tr></thead><tbody><tr><th>1</th><td>1</td><td>M</td></tr><tr><th>2</th><td>2</td><td>F</td></tr><tr><th>3</th><td>3</td><td>F</td></tr><tr><th>4</th><td>4</td><td>M</td></tr></tbody></table></div>"
      ],
      "text/latex": [
       "\\begin{tabular}{r|cc}\n",
       "\t& A & B\\\\\n",
       "\t\\hline\n",
       "\t& Int64 & String\\\\\n",
       "\t\\hline\n",
       "\t1 & 1 & M \\\\\n",
       "\t2 & 2 & F \\\\\n",
       "\t3 & 3 & F \\\\\n",
       "\t4 & 4 & M \\\\\n",
       "\\end{tabular}\n"
      ],
      "text/plain": [
       "\u001b[1m4×2 DataFrame\u001b[0m\n",
       "\u001b[1m Row \u001b[0m│\u001b[1m A     \u001b[0m\u001b[1m B      \u001b[0m\n",
       "\u001b[1m     \u001b[0m│\u001b[90m Int64 \u001b[0m\u001b[90m String \u001b[0m\n",
       "─────┼───────────────\n",
       "   1 │     1  M\n",
       "   2 │     2  F\n",
       "   3 │     3  F\n",
       "   4 │     4  M"
      ]
     },
     "execution_count": 3,
     "metadata": {},
     "output_type": "execute_result"
    }
   ],
   "source": [
    "df = DataFrame(A=1:4, B=[\"M\", \"F\", \"F\", \"M\"])"
   ]
  },
  {
   "cell_type": "code",
   "execution_count": 5,
   "id": "a8853866",
   "metadata": {},
   "outputs": [
    {
     "data": {
      "text/html": [
       "<div class=\"data-frame\"><p>5 rows × 2 columns</p><table class=\"data-frame\"><thead><tr><th></th><th>A</th><th>B</th></tr><tr><th></th><th title=\"Int64\">Int64</th><th title=\"String\">String</th></tr></thead><tbody><tr><th>1</th><td>1</td><td>Bib</td></tr><tr><th>2</th><td>2</td><td>Inst</td></tr><tr><th>3</th><td>3</td><td>#I</td></tr><tr><th>4</th><td>4</td><td>#N</td></tr><tr><th>5</th><td>5</td><td>CPU (.s)</td></tr></tbody></table></div>"
      ],
      "text/latex": [
       "\\begin{tabular}{r|cc}\n",
       "\t& A & B\\\\\n",
       "\t\\hline\n",
       "\t& Int64 & String\\\\\n",
       "\t\\hline\n",
       "\t1 & 1 & Bib \\\\\n",
       "\t2 & 2 & Inst \\\\\n",
       "\t3 & 3 & \\#I \\\\\n",
       "\t4 & 4 & \\#N \\\\\n",
       "\t5 & 5 & CPU (.s) \\\\\n",
       "\\end{tabular}\n"
      ],
      "text/plain": [
       "\u001b[1m5×2 DataFrame\u001b[0m\n",
       "\u001b[1m Row \u001b[0m│\u001b[1m A     \u001b[0m\u001b[1m B        \u001b[0m\n",
       "\u001b[1m     \u001b[0m│\u001b[90m Int64 \u001b[0m\u001b[90m String   \u001b[0m\n",
       "─────┼─────────────────\n",
       "   1 │     1  Bib\n",
       "   2 │     2  Inst\n",
       "   3 │     3  #I\n",
       "   4 │     4  #N\n",
       "   5 │     5  CPU (.s)"
      ]
     },
     "execution_count": 5,
     "metadata": {},
     "output_type": "execute_result"
    }
   ],
   "source": [
    "df = DataFrame(A=1:5, B=[\"Bib\", \"Inst\", \"#I\", \"#N\", \"CPU (.s)\"])"
   ]
  },
  {
   "cell_type": "code",
   "execution_count": 15,
   "id": "1d024166",
   "metadata": {},
   "outputs": [
    {
     "data": {
      "text/html": [
       "<div class=\"data-frame\"><p>0 rows × 10 columns</p><table class=\"data-frame\"><thead><tr><th></th><th>Bib</th><th>Inst</th><th>Var</th><th>Const</th><th>DomConst</th><th>Conconst</th><th>CoverI</th><th>Nodes</th><th>Gap</th><th>CPU</th></tr><tr><th></th><th title=\"String\">String</th><th title=\"String\">String</th><th title=\"Int64\">Int64</th><th title=\"Int64\">Int64</th><th title=\"Int64\">Int64</th><th title=\"Int64\">Int64</th><th title=\"Int64\">Int64</th><th title=\"Int64\">Int64</th><th title=\"Float64\">Float64</th><th title=\"Float64\">Float64</th></tr></thead><tbody></tbody></table></div>"
      ],
      "text/latex": [
       "\\begin{tabular}{r|cccccccccc}\n",
       "\t& Bib & Inst & Var & Const & DomConst & Conconst & CoverI & Nodes & Gap & CPU\\\\\n",
       "\t\\hline\n",
       "\t& String & String & Int64 & Int64 & Int64 & Int64 & Int64 & Int64 & Float64 & Float64\\\\\n",
       "\t\\hline\n",
       "\\end{tabular}\n"
      ],
      "text/plain": [
       "\u001b[1m0×10 DataFrame\u001b[0m"
      ]
     },
     "execution_count": 15,
     "metadata": {},
     "output_type": "execute_result"
    }
   ],
   "source": [
    "df = DataFrame(Bib=String[], Inst=String[], Var=Int[], Const=Int[], DomConst=Int[], Conconst=Int[], CoverI=Int[], Nodes=Int[], Gap=Float64[], CPU=Float64[])"
   ]
  },
  {
   "cell_type": "code",
   "execution_count": 16,
   "id": "6b3c3404",
   "metadata": {},
   "outputs": [
    {
     "ename": "LoadError",
     "evalue": "ArgumentError: `push!` with `cols` equal to `:setequal` requires `row` to have the same number of elements as the number of columns in `df`.",
     "output_type": "error",
     "traceback": [
      "ArgumentError: `push!` with `cols` equal to `:setequal` requires `row` to have the same number of elements as the number of columns in `df`.",
      "",
      "Stacktrace:",
      " [1] push!(df::DataFrame, row::Dict{Symbol, String}; cols::Symbol, promote::Bool)",
      "   @ DataFrames ~/.julia/packages/DataFrames/MA4YO/src/dataframe/dataframe.jl:1527",
      " [2] push!(df::DataFrame, row::Dict{Symbol, String})",
      "   @ DataFrames ~/.julia/packages/DataFrames/MA4YO/src/dataframe/dataframe.jl:1432",
      " [3] top-level scope",
      "   @ In[16]:1",
      " [4] eval",
      "   @ ./boot.jl:360 [inlined]",
      " [5] include_string(mapexpr::typeof(REPL.softscope), mod::Module, code::String, filename::String)",
      "   @ Base ./loading.jl:1094"
     ]
    }
   ],
   "source": [
    "push!(df, Dict(:Bib => \"F\", :Inst => \"3\"))"
   ]
  },
  {
   "cell_type": "code",
   "execution_count": 42,
   "id": "33155358",
   "metadata": {},
   "outputs": [
    {
     "data": {
      "text/plain": [
       "Dict{Symbol, Any} with 10 entries:\n",
       "  :Inst     => \"\"\n",
       "  :Nodes    => 1\n",
       "  :DomConst => 1\n",
       "  :CPU      => 1\n",
       "  :Gap      => 1\n",
       "  :Const    => 1\n",
       "  :Bib      => \"\"\n",
       "  :Var      => 1\n",
       "  :CoverI   => 1\n",
       "  :Conconst => 1"
      ]
     },
     "execution_count": 42,
     "metadata": {},
     "output_type": "execute_result"
    }
   ],
   "source": [
    "ResultDict=Dict(:Bib=>\"\", :Inst=>\"\", :Var=>1, :Const=>1, :DomConst=>1, :Conconst=>1, :CoverI=>1, :Nodes=>1, :Gap=>1, :CPU=>1)\n",
    "ResultDict"
   ]
  },
  {
   "cell_type": "code",
   "execution_count": 39,
   "id": "3e7ed26f",
   "metadata": {},
   "outputs": [
    {
     "data": {
      "text/plain": [
       "Dict{Symbol, Any} with 10 entries:\n",
       "  :Inst     => \"\"\n",
       "  :Nodes    => 1\n",
       "  :DomConst => 1\n",
       "  :CPU      => 1\n",
       "  :Gap      => 1\n",
       "  :Const    => 1\n",
       "  :Bib      => \"\"\n",
       "  :Var      => 1\n",
       "  :CoverI   => 1\n",
       "  :Conconst => 1"
      ]
     },
     "execution_count": 39,
     "metadata": {},
     "output_type": "execute_result"
    }
   ],
   "source": [
    "ResultDict = Dict(:Bib=>\"\", :Inst=>\"\", :Var=>1, :Const=>1, :DomConst=>1, :Conconst=>1, :CoverI=>1, :Nodes=>1, :Gap=>1, :CPU=>1)\n",
    "\n",
    "\n"
   ]
  },
  {
   "cell_type": "code",
   "execution_count": 20,
   "id": "0b81481f",
   "metadata": {},
   "outputs": [
    {
     "ename": "LoadError",
     "evalue": "ArgumentError: syntax df[column] is not supported use df[!, column] instead",
     "output_type": "error",
     "traceback": [
      "ArgumentError: syntax df[column] is not supported use df[!, column] instead",
      "",
      "Stacktrace:",
      " [1] getindex(#unused#::DataFrame, #unused#::Int64)",
      "   @ DataFrames ~/.julia/packages/DataFrames/MA4YO/src/abstractdataframe/abstractdataframe.jl:2257",
      " [2] top-level scope",
      "   @ In[20]:1",
      " [3] eval",
      "   @ ./boot.jl:360 [inlined]",
      " [4] include_string(mapexpr::typeof(REPL.softscope), mod::Module, code::String, filename::String)",
      "   @ Base ./loading.jl:1094"
     ]
    }
   ],
   "source": []
  },
  {
   "cell_type": "code",
   "execution_count": 28,
   "id": "36403015",
   "metadata": {},
   "outputs": [
    {
     "data": {
      "text/html": [
       "<div class=\"data-frame\"><p>0 rows × 10 columns</p><table class=\"data-frame\"><thead><tr><th></th><th>Bib</th><th>Inst</th><th>Var</th><th>Const</th><th>DomConst</th><th>Conconst</th><th>CoverI</th><th>Nodes</th><th>Gap</th><th>CPU</th></tr><tr><th></th><th title=\"String\">String</th><th title=\"String\">String</th><th title=\"Int64\">Int64</th><th title=\"Int64\">Int64</th><th title=\"Int64\">Int64</th><th title=\"Int64\">Int64</th><th title=\"Int64\">Int64</th><th title=\"Int64\">Int64</th><th title=\"Float64\">Float64</th><th title=\"Float64\">Float64</th></tr></thead><tbody></tbody></table></div>"
      ],
      "text/latex": [
       "\\begin{tabular}{r|cccccccccc}\n",
       "\t& Bib & Inst & Var & Const & DomConst & Conconst & CoverI & Nodes & Gap & CPU\\\\\n",
       "\t\\hline\n",
       "\t& String & String & Int64 & Int64 & Int64 & Int64 & Int64 & Int64 & Float64 & Float64\\\\\n",
       "\t\\hline\n",
       "\\end{tabular}\n"
      ],
      "text/plain": [
       "\u001b[1m0×10 DataFrame\u001b[0m"
      ]
     },
     "execution_count": 28,
     "metadata": {},
     "output_type": "execute_result"
    }
   ],
   "source": [
    "df=DataFrame(Bib=String[], Inst=String[], Var=Int[], Const=Int[], DomConst=Int[], Conconst=Int[], CoverI=Int[], Nodes=Int[], Gap=Float64[], CPU=Float64[])"
   ]
  },
  {
   "cell_type": "code",
   "execution_count": 30,
   "id": "498f32a1",
   "metadata": {},
   "outputs": [
    {
     "data": {
      "text/html": [
       "<div class=\"data-frame\"><p>2 rows × 10 columns</p><table class=\"data-frame\"><thead><tr><th></th><th>Bib</th><th>Inst</th><th>Var</th><th>Const</th><th>DomConst</th><th>Conconst</th><th>CoverI</th><th>Nodes</th><th>Gap</th><th>CPU</th></tr><tr><th></th><th title=\"String\">String</th><th title=\"String\">String</th><th title=\"Int64\">Int64</th><th title=\"Int64\">Int64</th><th title=\"Int64\">Int64</th><th title=\"Int64\">Int64</th><th title=\"Int64\">Int64</th><th title=\"Int64\">Int64</th><th title=\"Float64\">Float64</th><th title=\"Float64\">Float64</th></tr></thead><tbody><tr><th>1</th><td></td><td></td><td>1</td><td>1</td><td>1</td><td>1</td><td>1</td><td>1</td><td>1.0</td><td>1.0</td></tr><tr><th>2</th><td></td><td></td><td>1</td><td>1</td><td>1</td><td>1</td><td>1</td><td>1</td><td>1.0</td><td>1.0</td></tr></tbody></table></div>"
      ],
      "text/latex": [
       "\\begin{tabular}{r|cccccccccc}\n",
       "\t& Bib & Inst & Var & Const & DomConst & Conconst & CoverI & Nodes & Gap & CPU\\\\\n",
       "\t\\hline\n",
       "\t& String & String & Int64 & Int64 & Int64 & Int64 & Int64 & Int64 & Float64 & Float64\\\\\n",
       "\t\\hline\n",
       "\t1 &  &  & 1 & 1 & 1 & 1 & 1 & 1 & 1.0 & 1.0 \\\\\n",
       "\t2 &  &  & 1 & 1 & 1 & 1 & 1 & 1 & 1.0 & 1.0 \\\\\n",
       "\\end{tabular}\n"
      ],
      "text/plain": [
       "\u001b[1m2×10 DataFrame\u001b[0m\n",
       "\u001b[1m Row \u001b[0m│\u001b[1m Bib    \u001b[0m\u001b[1m Inst   \u001b[0m\u001b[1m Var   \u001b[0m\u001b[1m Const \u001b[0m\u001b[1m DomConst \u001b[0m\u001b[1m Conconst \u001b[0m\u001b[1m CoverI \u001b[0m\u001b[1m Nodes \u001b[0m\u001b[1m Gap   \u001b[0m ⋯\n",
       "\u001b[1m     \u001b[0m│\u001b[90m String \u001b[0m\u001b[90m String \u001b[0m\u001b[90m Int64 \u001b[0m\u001b[90m Int64 \u001b[0m\u001b[90m Int64    \u001b[0m\u001b[90m Int64    \u001b[0m\u001b[90m Int64  \u001b[0m\u001b[90m Int64 \u001b[0m\u001b[90m Float6\u001b[0m ⋯\n",
       "─────┼──────────────────────────────────────────────────────────────────────────\n",
       "   1 │                     1      1         1         1       1      1      1. ⋯\n",
       "   2 │                     1      1         1         1       1      1      1.\n",
       "\u001b[36m                                                               2 columns omitted\u001b[0m"
      ]
     },
     "execution_count": 30,
     "metadata": {},
     "output_type": "execute_result"
    }
   ],
   "source": [
    "push!(df, ResultDict)\n"
   ]
  },
  {
   "cell_type": "code",
   "execution_count": 33,
   "id": "9c256333",
   "metadata": {},
   "outputs": [
    {
     "data": {
      "text/plain": [
       "Dict{Symbol, Any}"
      ]
     },
     "execution_count": 33,
     "metadata": {},
     "output_type": "execute_result"
    }
   ],
   "source": [
    "typeof(ResultDict)"
   ]
  },
  {
   "cell_type": "code",
   "execution_count": 44,
   "id": "7d830ad4",
   "metadata": {},
   "outputs": [
    {
     "data": {
      "text/plain": [
       "\"\""
      ]
     },
     "execution_count": 44,
     "metadata": {},
     "output_type": "execute_result"
    }
   ],
   "source": [
    "ResultDict[:Bib]"
   ]
  },
  {
   "cell_type": "code",
   "execution_count": 70,
   "id": "074b9a05",
   "metadata": {},
   "outputs": [
    {
     "name": "stdout",
     "output_type": "stream",
     "text": [
      "\\begin{tabular}{r|ccccccccc}\n",
      "\t& Bib & Inst & Var & Const & DomConst & CoverI & Nodes & Gap & CPU\\\\\n",
      "\t\\hline\n",
      "\t& String & String & Int64 & Int64 & Int64 & Int64 & Int64 & Float64 & Float64\\\\\n",
      "\t\\hline\n",
      "\t1 & 0 & scenario\\_1.txt & 47105 & 145307 & 1 & 0 & 0 & 202.14 & 20.03 \\\\\n",
      "\t2 & 0 & scenario\\_10.txt & 19112 & 58980 & 2 & 0 & 0 & 120.18 & 17.38 \\\\\n",
      "\t3 & 0 & scenario\\_11.txt & 55881 & 172321 & 3 & 0 & 0 & 65.31 & 20.15 \\\\\n",
      "\t4 & 0 & scenario\\_12.txt & 29295 & 90433 & 1 & 0 & 0 & 132.04 & 4.14 \\\\\n",
      "\t5 & 0 & scenario\\_13.txt & 34081 & 105219 & 2 & 0 & 0 & 99.92 & 8.27 \\\\\n",
      "\t6 & 0 & scenario\\_14.txt & 38822 & 119806 & 0 & 0 & 0 & 92.73 & 26.06 \\\\\n",
      "\t7 & 0 & scenario\\_15.txt & 56507 & 174191 & 1 & 0 & 0 & 259.0 & 20.09 \\\\\n",
      "\t8 & 0 & scenario\\_16.txt & 33379 & 103077 & 2 & 0 & 0 & 79.78 & 20.31 \\\\\n",
      "\t9 & 0 & scenario\\_17.txt & 43915 & 135489 & 0 & 0 & 0 & 568.43 & 9.56 \\\\\n",
      "\t10 & 0 & scenario\\_18.txt & 39127 & 120749 & 1 & 0 & 0 & 594.32 & 16.76 \\\\\n",
      "\t11 & 0 & scenario\\_19.txt & 53210 & 164114 & 5 & 0 & 0 & 169.61 & 22.85 \\\\\n",
      "\t12 & 0 & scenario\\_2.txt & 47405 & 146209 & 0 & 0 & 0 & 306.57 & 11.79 \\\\\n",
      "\t13 & 0 & scenario\\_20.txt & 49725 & 153355 & 0 & 0 & 0 & 389.03 & 8.73 \\\\\n",
      "\t14 & 0 & scenario\\_3.txt & 56331 & 173651 & 1 & 0 & 0 & 234.85 & 13.98 \\\\\n",
      "\t15 & 0 & scenario\\_4.txt & 50671 & 156253 & 0 & 0 & 0 & 214.56 & 11.01 \\\\\n",
      "\t16 & 0 & scenario\\_5.txt & 56348 & 173712 & 2 & 0 & 0 & 779.87 & 12.68 \\\\\n",
      "\t17 & 0 & scenario\\_6.txt & 49575 & 152935 & 3 & 0 & 0 & 307.18 & 29.56 \\\\\n",
      "\t18 & 0 & scenario\\_7.txt & 38447 & 118663 & 0 & 0 & 0 & 202.66 & 14.6 \\\\\n",
      "\t19 & 0 & scenario\\_8.txt & 59840 & 184454 & 4 & 0 & 0 & 554.67 & 20.77 \\\\\n",
      "\t20 & 0 & scenario\\_9.txt & 67073 & 206615 & 1 & 0 & 0 & 200.72 & 36.22 \\\\\n",
      "\\end{tabular}\n"
     ]
    },
    {
     "data": {
      "text/plain": [
       "14"
      ]
     },
     "execution_count": 70,
     "metadata": {},
     "output_type": "execute_result"
    }
   ],
   "source": [
    "using CSV\n",
    "using DataFrames\n",
    "df = DataFrame(CSV.File(\"Expes/08/Results/results.csv\"))\n",
    "show(stdout, MIME(\"text/latex\"), delete!(df, 21))"
   ]
  },
  {
   "cell_type": "code",
   "execution_count": 71,
   "id": "995db120",
   "metadata": {},
   "outputs": [
    {
     "data": {
      "text/plain": [
       "\"\\textbf{Average} & \\textbf{-} & \\textbf{-} & \\textbf{46292.45} & \\textbf{142776.65} & \\textbf{1.45} & \\textbf{0.0} & \\textbf{0.0} & \\textbf{278.68} & \\textbf{17.25} \\\\ \""
      ]
     },
     "execution_count": 71,
     "metadata": {},
     "output_type": "execute_result"
    }
   ],
   "source": [
    "using Statistics\n",
    "avg=[try round(mean(c),digits=2)\n",
    "    catch \n",
    "        \"-\"\n",
    "    end \n",
    "    for c in eachcol(df)]\n",
    "ch=\"\\textbf{Average}\" *\" & \"\n",
    "for i in 1:length(avg)\n",
    "    if i!=length(avg)\n",
    "        ch=ch*\"\\textbf{\"*string(avg[i])*\"} & \"\n",
    "    else \n",
    "        ch=ch*\"\\textbf{\"*string(avg[i])*\"} \\\\ \"\n",
    "    end \n",
    "end \n",
    "ch"
   ]
  },
  {
   "cell_type": "code",
   "execution_count": 39,
   "id": "d9b0ef97",
   "metadata": {},
   "outputs": [
    {
     "ename": "LoadError",
     "evalue": "UndefVarError: Nodes not defined",
     "output_type": "error",
     "traceback": [
      "UndefVarError: Nodes not defined",
      "",
      "Stacktrace:",
      " [1] top-level scope",
      "   @ In[39]:1",
      " [2] eval",
      "   @ ./boot.jl:360 [inlined]",
      " [3] include_string(mapexpr::typeof(REPL.softscope), mod::Module, code::String, filename::String)",
      "   @ Base ./loading.jl:1094"
     ]
    }
   ],
   "source": [
    "average(df[!,Nodes])"
   ]
  },
  {
   "cell_type": "code",
   "execution_count": 1,
   "id": "922dfde6",
   "metadata": {},
   "outputs": [
    {
     "ename": "LoadError",
     "evalue": "ArgumentError: Package matplotlib not found in current path:\n- Run `import Pkg; Pkg.add(\"matplotlib\")` to install the matplotlib package.\n",
     "output_type": "error",
     "traceback": [
      "ArgumentError: Package matplotlib not found in current path:\n- Run `import Pkg; Pkg.add(\"matplotlib\")` to install the matplotlib package.\n",
      "",
      "Stacktrace:",
      " [1] require(into::Module, mod::Symbol)",
      "   @ Base ./loading.jl:871",
      " [2] eval",
      "   @ ./boot.jl:360 [inlined]",
      " [3] include_string(mapexpr::typeof(REPL.softscope), mod::Module, code::String, filename::String)",
      "   @ Base ./loading.jl:1094"
     ]
    }
   ],
   "source": [
    "import matplotlib.pyplot as plt\n"
   ]
  },
  {
   "cell_type": "code",
   "execution_count": null,
   "id": "bf042050",
   "metadata": {},
   "outputs": [],
   "source": []
  }
 ],
 "metadata": {
  "kernelspec": {
   "display_name": "Julia 1.6.1",
   "language": "julia",
   "name": "julia-1.6"
  },
  "language_info": {
   "file_extension": ".jl",
   "mimetype": "application/julia",
   "name": "julia",
   "version": "1.6.1"
  }
 },
 "nbformat": 4,
 "nbformat_minor": 5
}
